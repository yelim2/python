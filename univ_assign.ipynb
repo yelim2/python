{
 "cells": [
  {
   "cell_type": "code",
   "execution_count": 5,
   "metadata": {},
   "outputs": [],
   "source": [
    "# -*- coding: utf-8 -*-\n",
    "from urllib.request import urlopen #urlopen모듈 가져옴\n",
    "from bs4 import BeautifulSoup      #크롤링 모듈 가져옴\n",
    "\n",
    "univ_name = [\"정화예대\",\"용인대학교\",\"장안대학교\"]\n",
    "url_que = [\"http://jb.ac.kr/web/ipsi/210\",\"http://m.yongin.ac.kr/enter/enter03\",\\\n",
    "           \"http://iphak.jangan.ac.kr/kor/service/subject.asp\"]\n",
    "\n",
    "crawled_schedule_List = []\n",
    "num_of_Univ = 3\n",
    "\n",
    "for i in range(num_of_Univ):\n",
    "    url = urlopen(url_que[0])\n",
    "    soup = BeautifulSoup(url, \"lxml\")\n",
    "    crawled_schedule_List.extend(soup.find_all(name=\"table\"))\n",
    "\n",
    "\n",
    "def main(crawled_schedule_List,univ_name):\n",
    "    outfile = open(\"univ_schedule.html\", \"w\")\n",
    "    for t in range(len(crawled_schedule_List)):\n",
    "        outfile.write(str(univ_name[t])+'\\'s Schedule')\n",
    "        outfile.write(\"<br>\")\n",
    "        outfile.write(str(crawled_schedule_List[t]) )\n",
    "        outfile.write(\"<br><br>\")\n",
    "    outfile.close()\n",
    "\n",
    "main(crawled_schedule_List,univ_name)\n",
    "\n",
    "\n"
   ]
  },
  {
   "cell_type": "code",
   "execution_count": null,
   "metadata": {},
   "outputs": [],
   "source": []
  }
 ],
 "metadata": {
  "kernelspec": {
   "display_name": "Python 3",
   "language": "python",
   "name": "python3"
  },
  "language_info": {
   "codemirror_mode": {
    "name": "ipython",
    "version": 3
   },
   "file_extension": ".py",
   "mimetype": "text/x-python",
   "name": "python",
   "nbconvert_exporter": "python",
   "pygments_lexer": "ipython3",
   "version": "3.4.0"
  }
 },
 "nbformat": 4,
 "nbformat_minor": 2
}
